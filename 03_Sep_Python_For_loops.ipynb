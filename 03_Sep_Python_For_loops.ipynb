{
 "cells": [
  {
   "cell_type": "code",
   "execution_count": 1,
   "id": "3ec017f6",
   "metadata": {},
   "outputs": [
    {
     "name": "stdout",
     "output_type": "stream",
     "text": [
      "1\n",
      "2\n",
      "3\n",
      "4\n",
      "5\n",
      "6\n",
      "7\n",
      "8\n",
      "9\n",
      "10\n"
     ]
    }
   ],
   "source": [
    "#Write a Python program to print the numbers from 1 to 10 using a `for` loop\n",
    "for i in range(1,11):\n",
    "    print(i)"
   ]
  },
  {
   "cell_type": "code",
   "execution_count": 22,
   "id": "cd3a0019",
   "metadata": {},
   "outputs": [
    {
     "name": "stdout",
     "output_type": "stream",
     "text": [
      "100\n"
     ]
    }
   ],
   "source": [
    "#Create a program that calculates the sum of all numbers in a list using a `for` loop\n",
    "my_list=[10,20,30,40]\n",
    "sum_list=0\n",
    "for i in my_list:\n",
    "    sum_list=sum_list+i\n",
    "    \n",
    "print(sum_list)"
   ]
  },
  {
   "cell_type": "code",
   "execution_count": 28,
   "id": "b563e800",
   "metadata": {},
   "outputs": [
    {
     "name": "stdout",
     "output_type": "stream",
     "text": [
      "aytida\n"
     ]
    }
   ],
   "source": [
    "# Write a program to print the characters of a string in reverse order using a `for` loop.\n",
    "string=\"aditya\"\n",
    "rev=\"\"\n",
    "for i in string:\n",
    "    rev= i + rev\n",
    "\n",
    "print((rev))"
   ]
  },
  {
   "cell_type": "code",
   "execution_count": 40,
   "id": "1c81f31d",
   "metadata": {},
   "outputs": [
    {
     "name": "stdout",
     "output_type": "stream",
     "text": [
      "120\n"
     ]
    }
   ],
   "source": [
    "#Develop a program that finds the factorial of a given number using a `for` loop.\n",
    "n=5\n",
    "factorial=1\n",
    "for i in range(1,n+1):\n",
    "    factorial= factorial*i\n",
    "print(factorial)\n",
    "    \n",
    "    "
   ]
  },
  {
   "cell_type": "code",
   "execution_count": 42,
   "id": "ed815fe1",
   "metadata": {},
   "outputs": [
    {
     "name": "stdout",
     "output_type": "stream",
     "text": [
      "enter the number:5\n",
      "5\n",
      "10\n",
      "15\n",
      "20\n",
      "25\n",
      "30\n",
      "35\n",
      "40\n",
      "45\n",
      "50\n"
     ]
    }
   ],
   "source": [
    "# Create a program to print the multiplication table of a given number using a `for` loop\n",
    "\n",
    "number=int(input(\"enter the number:\"))\n",
    "\n",
    "for i in range(1,11):\n",
    "    print(number*i)\n",
    "\n",
    "\n",
    "\n"
   ]
  },
  {
   "cell_type": "code",
   "execution_count": 43,
   "id": "39b4acc3",
   "metadata": {},
   "outputs": [
    {
     "name": "stdout",
     "output_type": "stream",
     "text": [
      "the no of the even: 4\n",
      "the no of the odd: 5\n"
     ]
    }
   ],
   "source": [
    "#Write a program that counts the number of even and odd numbers in a list using a `for` loop\n",
    "my_list=[1,2,3,4,5,6,7,8,9]\n",
    "even_count,odd_count=0,0\n",
    "for i in my_list:\n",
    "    if i % 2==0:\n",
    "        even_count+=1\n",
    "    else:\n",
    "        odd_count+=1\n",
    "\n",
    "print(\"the no of the even:\",even_count)\n",
    "print(\"the no of the odd:\",odd_count)\n"
   ]
  },
  {
   "cell_type": "code",
   "execution_count": 44,
   "id": "8bd6586c",
   "metadata": {},
   "outputs": [
    {
     "name": "stdout",
     "output_type": "stream",
     "text": [
      "1\n",
      "4\n",
      "9\n",
      "16\n",
      "25\n"
     ]
    }
   ],
   "source": [
    "# Develop a program that prints the squares of numbers from 1 to 5 using a `for` loop.\n",
    "\n",
    "for i in range(1,6):\n",
    "    print(i**2)"
   ]
  },
  {
   "cell_type": "code",
   "execution_count": 48,
   "id": "35d37333",
   "metadata": {},
   "outputs": [
    {
     "name": "stdout",
     "output_type": "stream",
     "text": [
      "6\n"
     ]
    }
   ],
   "source": [
    "#Create a program to find the length of a string without using the `len()` function.\n",
    "\n",
    "string=\"aditya\"\n",
    "\n",
    "str_len=0\n",
    "\n",
    "for i in  string:\n",
    "    str_len+=1\n",
    "\n",
    "print(str_len)\n"
   ]
  },
  {
   "cell_type": "code",
   "execution_count": 53,
   "id": "70f3f0b4",
   "metadata": {},
   "outputs": [
    {
     "name": "stdout",
     "output_type": "stream",
     "text": [
      "the average of the list is: 22.5\n"
     ]
    }
   ],
   "source": [
    "# Write a program that calculates the average of a list of numbers using a `for` loop\n",
    "\n",
    "my_list=[1,2,3,4,5,6,7,8,9]\n",
    "average=0\n",
    "for i in my_list:\n",
    "    average=average+i\n",
    "    \n",
    "print(\"the average of the list is:\",average/2)"
   ]
  },
  {
   "cell_type": "code",
   "execution_count": 55,
   "id": "adbf0bb5",
   "metadata": {},
   "outputs": [
    {
     "name": "stdout",
     "output_type": "stream",
     "text": [
      "enter the number :7\n",
      "1\n",
      "2\n",
      "3\n",
      "5\n",
      "8\n",
      "13\n",
      "21\n"
     ]
    }
   ],
   "source": [
    "#Develop a program that prints the first `n` Fibonacci numbers using a `for` loop\n",
    "num=int(input(\"enter the number :\"))\n",
    "\n",
    "a=0\n",
    "b=1\n",
    "\n",
    "for i in range(1,num+1):\n",
    "    c=a+b\n",
    "    a=b\n",
    "    b=c\n",
    "    print(c)"
   ]
  },
  {
   "cell_type": "code",
   "execution_count": 64,
   "id": "d80f352e",
   "metadata": {},
   "outputs": [
    {
     "data": {
      "text/plain": [
       "[1, 2, 3, 4, 5, 6, 7, 8, 9]"
      ]
     },
     "execution_count": 64,
     "metadata": {},
     "output_type": "execute_result"
    }
   ],
   "source": [
    "#Write a program to check if a given list contains any duplicates using a `for` loop\n",
    "my_list=[1,2,3,4,5,6,7,8,9,1,8,6,5,3]\n",
    "\n",
    "\n",
    "def remove_duplicate(my_list):\n",
    "    \n",
    "    duplicate=[]\n",
    "    for i in my_list:\n",
    "        if i not in duplicate:\n",
    "            duplicate.append(i)\n",
    "\n",
    "    return duplicate\n",
    "\n",
    "remove_duplicate(my_list)"
   ]
  },
  {
   "cell_type": "code",
   "execution_count": 5,
   "id": "59ae4d87",
   "metadata": {},
   "outputs": [
    {
     "name": "stdout",
     "output_type": "stream",
     "text": [
      "enter the lower number:5\n",
      "enter the higher number:90\n",
      "5\n",
      "7\n",
      "11\n",
      "13\n",
      "17\n",
      "19\n",
      "23\n",
      "29\n",
      "31\n",
      "37\n",
      "41\n",
      "43\n",
      "47\n",
      "53\n",
      "59\n",
      "61\n",
      "67\n",
      "71\n",
      "73\n",
      "79\n",
      "83\n",
      "89\n"
     ]
    }
   ],
   "source": [
    "#Create a program that prints the prime numbers in a given range using a `for` loop.\n",
    "lower=int(input(\"enter the lower number:\"))\n",
    "upper=int(input(\"enter the higher number:\"))\n",
    "\n",
    "for num in range(lower,upper):\n",
    "    if num>1:\n",
    "        for i in range(2,num):\n",
    "            if num%i == 0:\n",
    "                break\n",
    "        else:\n",
    "            print(num)\n",
    "        "
   ]
  },
  {
   "cell_type": "code",
   "execution_count": 11,
   "id": "5df9ee02",
   "metadata": {},
   "outputs": [
    {
     "name": "stdout",
     "output_type": "stream",
     "text": [
      "enter the string:aditya\n",
      "the string contain the vowels 3\n"
     ]
    }
   ],
   "source": [
    "# Develop a program that counts the number of vowels in a string using a `for` loop.\n",
    "string=str(input(\"enter the string:\"))\n",
    "\n",
    "count=0\n",
    "\n",
    "string=string.lower()\n",
    "for i in string:\n",
    "    if i == \"a\" or i ==\"e\"or i ==\"i\" or i == \"u\":\n",
    "        \n",
    "        count+=1\n",
    "\n",
    "if count==0:\n",
    "    print(\"the string does not contain vowels\")\n",
    "else :\n",
    "    print(\"the string contain the vowels\",count)"
   ]
  },
  {
   "cell_type": "code",
   "execution_count": 12,
   "id": "8bc02b47",
   "metadata": {},
   "outputs": [],
   "source": [
    "#Write a program to find the maximum element in a 2D list using a nested `for` loop\n",
    "\n",
    "def prod(lis):\n",
    "\tmaxi = 0\n",
    "\t\n",
    "\t# traversal in the lists\n",
    "\tfor x in lis:\n",
    "\t\n",
    "\t\tp = 1\n",
    "\t\t\n",
    "\t\t# traversal in list of lists\n",
    "\t\tfor i in x:\n",
    "\t\t\tp *= i\n",
    "\t\t\tmaxi = max(p, maxi)\n",
    "\treturn maxi\n",
    "\n",
    "\n",
    "# driver code\n",
    "l = [[1, 2, 3], [4, 5, 6], [7, 8, 9]]\n",
    "print(prod(l))\n"
   ]
  },
  {
   "cell_type": "code",
   "execution_count": 14,
   "id": "8f286623",
   "metadata": {},
   "outputs": [
    {
     "name": "stdout",
     "output_type": "stream",
     "text": [
      "[1, 2, 3, 4, 5, 6, 7, 8, 9]\n"
     ]
    }
   ],
   "source": [
    "#Create a program that removes all occurrences of a specific element from a list using a `for` loop.\n",
    "my_list=[1,2,3,4,5,6,7,8,9,10]\n",
    "element=10\n",
    "\n",
    "for i in my_list:\n",
    "    if i == element:\n",
    "        my_list.remove(element)\n",
    "        \n",
    "print(my_list)"
   ]
  },
  {
   "cell_type": "code",
   "execution_count": 2,
   "id": "76172fe9",
   "metadata": {},
   "outputs": [
    {
     "name": "stdout",
     "output_type": "stream",
     "text": [
      "Enter the number of which the user wants to print the multiplication table: 7\n",
      "The Multiplication Table of:  7\n",
      "7 x 1 = 7\n",
      "7 x 2 = 14\n",
      "7 x 3 = 21\n",
      "7 x 4 = 28\n",
      "7 x 5 = 35\n",
      "7 x 6 = 42\n",
      "7 x 7 = 49\n",
      "7 x 8 = 56\n",
      "7 x 9 = 63\n",
      "7 x 10 = 70\n"
     ]
    }
   ],
   "source": [
    "# Develop a program that generates a multiplication table for numbers from 1 to 5 using a nested `for` loop\n",
    "number = int(input (\"Enter the number of which the user wants to print the multiplication table: \"))      \n",
    "# We are using \"for loop\" to iterate the multiplication 10 times       \n",
    "print (\"The Multiplication Table of: \", number)    \n",
    "for count in range(1, 11):      \n",
    "   print (number, 'x', count, '=', number * count)    \n"
   ]
  },
  {
   "cell_type": "code",
   "execution_count": 23,
   "id": "8c95ed8c",
   "metadata": {},
   "outputs": [
    {
     "name": "stdout",
     "output_type": "stream",
     "text": [
      "[-12.222222222222221, -6.666666666666667, -1.1111111111111112, 4.444444444444445, 10.0]\n"
     ]
    }
   ],
   "source": [
    "#Write a program that converts a list of Fahrenheit temperatures to Celsius using a `for` loop.\n",
    "my_list=[10,20,30,40,50]\n",
    "\n",
    "temperature=[]\n",
    "for i in my_list:\n",
    "    x=(i-32)* 5/ 9\n",
    "    temperature.append(x)\n",
    "print(temperature)\n",
    "    "
   ]
  },
  {
   "cell_type": "code",
   "execution_count": 30,
   "id": "1ad371fa",
   "metadata": {},
   "outputs": [
    {
     "name": "stdout",
     "output_type": "stream",
     "text": [
      "50\n",
      "60\n"
     ]
    }
   ],
   "source": [
    "#Create a program to print the common elements from two lists using a `for` loop.\n",
    "list1=[10,20,30,40,50,60]\n",
    "list2=[50,60,70,80,90]\n",
    "\n",
    "for i in list1:\n",
    "    for x in list2:\n",
    "        if i ==x :\n",
    "            print(x)"
   ]
  },
  {
   "cell_type": "code",
   "execution_count": 47,
   "id": "5a8cee68",
   "metadata": {},
   "outputs": [
    {
     "name": "stdout",
     "output_type": "stream",
     "text": [
      "*\n",
      "**\n",
      "***\n",
      "****\n",
      "*****\n"
     ]
    }
   ],
   "source": [
    "#Develop a program that prints the pattern of right-angled triangles using a `for` loop. Use ‘*’ to draw the pattern\n",
    "\n",
    "for i in range(5):\n",
    "    for j in range(i):\n",
    "        print(\"*\", end=\"\")\n",
    "    print(\"*\")"
   ]
  },
  {
   "cell_type": "code",
   "execution_count": 54,
   "id": "e87355f9",
   "metadata": {},
   "outputs": [
    {
     "name": "stdout",
     "output_type": "stream",
     "text": [
      "enter the first number3\n",
      "enter the second number63\n",
      "GCD of 3 and 63 is: 3\n"
     ]
    }
   ],
   "source": [
    "# Write a program to find the greatest common divisor (GCD) of two numbers using a for loop\n",
    "x = int(input(\"enter the first number\"))\n",
    "y = int(input(\"enter the second number\"))\n",
    "if x > y:\n",
    "    x, y = y, x\n",
    "for i in range(1,x+1):\n",
    "    if x%i == 0 and y%i == 0:\n",
    "        gcd = i\n",
    "\n",
    "print(\"GCD of\", x, \"and\", y, \"is:\", gcd)"
   ]
  },
  {
   "cell_type": "code",
   "execution_count": 60,
   "id": "1f13c48b",
   "metadata": {},
   "outputs": [
    {
     "name": "stdout",
     "output_type": "stream",
     "text": [
      "the sum of digits of numbers 74\n"
     ]
    }
   ],
   "source": [
    "#Create a program that calculates the sum of the digits of numbers in a list using a list comprehension.\n",
    "list1 = [11, 5, 17, 18, 23]\n",
    "\n",
    "total= 0\n",
    "\n",
    "for i in range(0,len(list1)):\n",
    "    total =total + list1[i]\n",
    "    \n",
    "print(\"the sum of digits of numbers\",total)"
   ]
  },
  {
   "cell_type": "code",
   "execution_count": 1,
   "id": "b804f59b",
   "metadata": {},
   "outputs": [
    {
     "name": "stdout",
     "output_type": "stream",
     "text": [
      "3\n",
      "3\n",
      "5\n",
      "7\n"
     ]
    }
   ],
   "source": [
    "#Write a program to find the prime factors of a given number using for loop and list comprehension \n",
    "# Python program to print prime factors\n",
    "\n",
    "import math\n",
    "\n",
    "# A function to print all prime factors of\n",
    "# a given number n\n",
    "def primeFactors(n):\n",
    "\t\n",
    "\t# Print the number of two's that divide n\n",
    "\twhile n % 2 == 0:\n",
    "\t\tprint(2)\n",
    "\t\tn = n // 2\n",
    "\t\t\n",
    "\t# n must be odd at this point\n",
    "\t# so a skip of 2 ( i = i + 2) can be used\n",
    "\tfor i in range(3,int(math.sqrt(n))+1,2):\n",
    "\t\t\n",
    "\t\t# while i divides n , print i ad divide n\n",
    "\t\twhile n % i== 0:\n",
    "\t\t\tprint(i)\n",
    "\t\t\tn = n // i\n",
    "\t\t\t\n",
    "\t# Condition if n is a prime\n",
    "\t# number greater than 2\n",
    "\tif n > 2:\n",
    "\t\tprint(n)\n",
    "\t\t\n",
    "# Driver Program to test above function\n",
    "\n",
    "n = 315\n",
    "primeFactors(n)\n",
    "\n",
    "# This code is contributed by Harshit Agrawal\n",
    "#Code Improved by Sarthak Shrivastava\n"
   ]
  },
  {
   "cell_type": "code",
   "execution_count": 9,
   "id": "0b2d420a",
   "metadata": {},
   "outputs": [
    {
     "name": "stdout",
     "output_type": "stream",
     "text": [
      "the unique values from 1st list is\n",
      "[10, 20, 30, 40]\n"
     ]
    }
   ],
   "source": [
    "#Develop a program that extracts unique elements from a list and stores them in a new list using a list comprehension.\n",
    "def unique(list1):\n",
    "    \n",
    "    unique_list=[]\n",
    "    \n",
    "    \n",
    "    for i in list1:\n",
    "        if i not in unique_list:\n",
    "            unique_list.append(i)\n",
    "            \n",
    "        \n",
    "    print(unique_list)\n",
    "        \n",
    "list1 = [10, 20, 10, 30, 40, 40]\n",
    "print(\"the unique values from 1st list is\")\n",
    "unique(list1)"
   ]
  },
  {
   "cell_type": "code",
   "execution_count": 1,
   "id": "27e0b18a",
   "metadata": {},
   "outputs": [
    {
     "name": "stdout",
     "output_type": "stream",
     "text": [
      "121\n",
      "141\n",
      "252\n",
      "\n",
      "Total palindrome nos. are 3\n",
      "\n",
      "111\n",
      "565\n",
      "787\n",
      "363\n",
      "\n",
      "Total palindrome nos. are 4\n",
      "\n"
     ]
    }
   ],
   "source": [
    "#Create a program that generates a list of all palindromic numbers up to a specified limit using a list comprehension.\n",
    "\n",
    "def palindromeNumbers(list_a):\n",
    "\n",
    "\tc = 0\n",
    "\n",
    "\t# loop till list is not empty\n",
    "\tfor i in list_a:\n",
    "\n",
    "\t\t# Find reverse of current number\n",
    "\t\tt = i\n",
    "\t\trev = 0\n",
    "\t\twhile t > 0:\n",
    "\t\t\trev = rev * 10 + t % 10\n",
    "\t\t\tt = t // 10\n",
    "\n",
    "\t\t# compare rev with the current number\n",
    "\t\tif rev == i:\n",
    "\t\t\tprint(i)\n",
    "\t\t\tc = c + 1\n",
    "\n",
    "\tprint()\n",
    "\tprint(\"Total palindrome nos. are\", c)\n",
    "\tprint()\n",
    "\n",
    "# Driver code\n",
    "\n",
    "\n",
    "def main():\n",
    "\n",
    "\tlist_a = [10, 121, 133, 155, 141, 252]\n",
    "\tpalindromeNumbers(list_a)\n",
    "\n",
    "\tlist_b = [111, 220, 784, 565, 498, 787, 363]\n",
    "\tpalindromeNumbers(list_b)\n",
    "\n",
    "\n",
    "if __name__ == \"__main__\":\n",
    "\tmain()\t\t\t # main function call\n"
   ]
  },
  {
   "cell_type": "code",
   "execution_count": 2,
   "id": "493b6364",
   "metadata": {},
   "outputs": [
    {
     "name": "stdout",
     "output_type": "stream",
     "text": [
      "[1, 2, 3, 4, 5, 6, 7]\n"
     ]
    }
   ],
   "source": [
    "#Write a program to flatten a nested list using list comprehension.\n",
    "my_list = [[1], [2, 3], [4, 5, 6, 7]]\n",
    "\n",
    "flat_list = [num for sublist in my_list for num in sublist]\n",
    "print(flat_list)"
   ]
  },
  {
   "cell_type": "code",
   "execution_count": null,
   "id": "83d1ab87",
   "metadata": {},
   "outputs": [],
   "source": []
  },
  {
   "cell_type": "code",
   "execution_count": 10,
   "id": "56abc116",
   "metadata": {},
   "outputs": [
    {
     "data": {
      "text/plain": [
       "49"
      ]
     },
     "execution_count": 10,
     "metadata": {},
     "output_type": "execute_result"
    }
   ],
   "source": [
    "#Develop a program that computes the sum of even and odd numbers in a list separately using list comprehension.\n",
    "test_list = [345, 893, 1948, 34, 2346]\n",
    "odd_sum = 0\n",
    "even_sum = 0\n",
    "\n",
    "odd_sum += sum([int(ele)\n",
    "\t\t\t\tfor sub in test_list for ele in str(sub) if int(ele) % 2 == 1])\n",
    "even_sum += sum([int(ele)\n",
    "\t\t\t\tfor sub in test_list for ele in str(sub) if int(ele) % 2 == 0])\n",
    "\n",
    "print(\"Odd digit sum : \" + str(odd_sum))\n",
    "print(\"Even digit sum : \" + str(even_sum))\n"
   ]
  },
  {
   "cell_type": "code",
   "execution_count": 12,
   "id": "57563caa",
   "metadata": {},
   "outputs": [
    {
     "name": "stdout",
     "output_type": "stream",
     "text": [
      "[1, 9, 25, 49, 81]\n"
     ]
    }
   ],
   "source": [
    "#Create a program that generates a list of squares of odd numbers between 1 and 10 using list comprehension\n",
    "\n",
    "square=[x**2 for x in range(1,11) if x%2!=0]\n",
    "print(\"square of all the odd nos:\" square)"
   ]
  },
  {
   "cell_type": "code",
   "execution_count": 14,
   "id": "49ddcf43",
   "metadata": {},
   "outputs": [
    {
     "name": "stdout",
     "output_type": "stream",
     "text": [
      "the combined list: {1: 'aditya', 2: 'yash', 3: 'mangesh', 4: 'pratik'}\n"
     ]
    }
   ],
   "source": [
    "#Write a program that combines two lists into a dictionary using list comprehension.\n",
    "\n",
    "keys=[1,2,3,4]\n",
    "value=[\"aditya\",\"yash\",\"mangesh\",\"pratik\"]\n",
    "\n",
    "dic={keys[i]:value[i] for i in range(len(keys))}\n",
    "\n",
    "print(\"the combined list:\",dic)"
   ]
  },
  {
   "cell_type": "code",
   "execution_count": 1,
   "id": "78368bfe",
   "metadata": {},
   "outputs": [
    {
     "name": "stdout",
     "output_type": "stream",
     "text": [
      "The original list is : ['all', 'love', 'and', 'get', 'educated', 'by', 'gfg']\n",
      "The extracted words : ['all', 'and', 'educated']\n"
     ]
    }
   ],
   "source": [
    "#Develop a program that extracts the vowels from a string and stores them in a list using list comprehension.\n",
    "\n",
    "test_list = [\"all\", \"love\", \"and\", \"get\", \"educated\", \"by\", \"gfg\"]\n",
    "\n",
    "vowels = {\n",
    "\t\"a\": 0, \"e\": 0, \"i\": 0, \"o\": 0, \"u\": 0}\n",
    "# printing original list\n",
    "print(\"The original list is : \" + str(test_list))\n",
    "\n",
    "\n",
    "res = list(filter(lambda x: x[0] in vowels.keys(), test_list))\n",
    "\n",
    "\n",
    "# printing result\n",
    "print(\"The extracted words : \" + str(res))\n"
   ]
  },
  {
   "cell_type": "code",
   "execution_count": 2,
   "id": "ae04a348",
   "metadata": {},
   "outputs": [
    {
     "name": "stdout",
     "output_type": "stream",
     "text": [
      "['geeks', 'for', 'geeks']\n"
     ]
    }
   ],
   "source": [
    "#Create a program that removes all non-numeric characters from a list of strings using list comprehension.\n",
    "\n",
    "import re\n",
    "\n",
    "\n",
    "def remove(list):\n",
    "\tpattern = '[0-9]'\n",
    "\tlist = [re.sub(pattern, '', i) for i in list]\n",
    "\treturn list\n",
    "\n",
    "# Driver code\n",
    "\n",
    "\n",
    "list = ['4geeks', '3for', '4geeks']\n",
    "print(remove(list))\n"
   ]
  },
  {
   "cell_type": "code",
   "execution_count": 3,
   "id": "3db152cb",
   "metadata": {},
   "outputs": [
    {
     "name": "stdout",
     "output_type": "stream",
     "text": [
      "2 3 5 7 11 13 17 19 23 29 31 37 41 43 47 53 59 61 67 71 73 79 83 89 97 "
     ]
    }
   ],
   "source": [
    "# Write a program to generate a list of prime numbers using the Sieve of Eratosthenes algorithm and list comprehension\n",
    "\n",
    "Primes = [0] * 500001\n",
    "def SieveOfEratosthenes(n) : \n",
    "\t\n",
    "\tPrimes[0] = 1\n",
    "\ti = 3\n",
    "\twhile(i*i <= n) : \n",
    "\t\tif (Primes[i // 2] == 0) : \n",
    "\t\t\tfor j in range(3 * i, n+1, 2 * i) : \n",
    "\t\t\t\tPrimes[j // 2] = 1\n",
    "\t\t\t\t\n",
    "\t\ti += 2\n",
    "\t\t\n",
    "# Driver Code \n",
    "if __name__ == \"__main__\": \n",
    "\n",
    "\tn = 100\n",
    "\tSieveOfEratosthenes(n) \n",
    "\tfor i in range(1, n+1) : \n",
    "\t\tif (i == 2) : \n",
    "\t\t\tprint( i, end = \" \") \n",
    "\t\telif (i % 2 == 1 and Primes[i // 2] == 0) : \n",
    "\t\t\tprint( i, end = \" \") \n",
    "\t\n",
    "\t# This code is contributed by code_hunt.\n"
   ]
  },
  {
   "cell_type": "code",
   "execution_count": 4,
   "id": "fd49ecbf",
   "metadata": {},
   "outputs": [
    {
     "name": "stdout",
     "output_type": "stream",
     "text": [
      "Enter the value of n: 4\n",
      "[]\n"
     ]
    }
   ],
   "source": [
    "#Create a program that generates a list of all Pythagorean triplets up to a specified limit using listcomprehension\n",
    "n = int(input('Enter the value of n: '))\n",
    "print([(a, b, c) for a in range(1, n + 1) for b in range(a, n + 1)\n",
    "       for c in range(b, n + 1) if a**2 + b**2 == c**2])"
   ]
  },
  {
   "cell_type": "code",
   "execution_count": 7,
   "id": "5b74a5a0",
   "metadata": {},
   "outputs": [
    {
     "name": "stdout",
     "output_type": "stream",
     "text": [
      "[('b', 1), ('b', 4), ('b', 9), ('c', 1), ('c', 4), ('c', 9), ('d', 1), ('d', 4), ('d', 9)]\n"
     ]
    }
   ],
   "source": [
    "#Develop a program that generates a list of all possible combinations of two lists using list comprehension.\n",
    "\n",
    "\n",
    "list_1 = [\"b\", \"c\", \"d\"]\n",
    "list_2 = [1, 4, 9]\n",
    "\n",
    "unique_combinations = []\n",
    "\n",
    "for i in range(len(list_1)):\n",
    "\tfor j in range(len(list_2)):\n",
    "\t\tunique_combinations.append((list_1[i], list_2[j]))\n",
    "\n",
    "print(unique_combinations)\n",
    "\n"
   ]
  },
  {
   "cell_type": "code",
   "execution_count": 9,
   "id": "576e0903",
   "metadata": {},
   "outputs": [
    {
     "name": "stdout",
     "output_type": "stream",
     "text": [
      "{8, 2, 4, 5}\n"
     ]
    }
   ],
   "source": [
    "#Write a program that calculates the mean, median, and mode of a list of numbers using list comprehension.\n",
    "\n",
    "number_list = [1, 2, 2, 3, 4, 4, 5, 5, 6, 7, 8, 8, 8]\n",
    "uniq_values = []\n",
    "mode_values = []\n",
    "for i in number_list:\n",
    "\tif i not in uniq_values:\n",
    "\t\tuniq_values.append(i)\n",
    "\telse:\n",
    "\t\tmode_values.append(i)\n",
    "print(set(mode_values))\n"
   ]
  },
  {
   "cell_type": "code",
   "execution_count": 11,
   "id": "ebee71ed",
   "metadata": {},
   "outputs": [
    {
     "name": "stdout",
     "output_type": "stream",
     "text": [
      "     1\n",
      "    1 1\n",
      "   1 2 1\n",
      "  1 3 3 1\n",
      " 1 4 6 4 1\n"
     ]
    }
   ],
   "source": [
    "#Create a program that generates Pascal's triangle up to a specified number of rows using list comprehension\n",
    "\n",
    "# input n\n",
    "n = 5\n",
    "\n",
    "# iterarte upto n\n",
    "for i in range(n):\n",
    "\t# adjust space\n",
    "\tprint(' '*(n-i), end='')\n",
    "\n",
    "\t# compute power of 11\n",
    "\tprint(' '.join(map(str, str(11**i))))\n"
   ]
  },
  {
   "cell_type": "code",
   "execution_count": 12,
   "id": "85e5f852",
   "metadata": {},
   "outputs": [
    {
     "name": "stdout",
     "output_type": "stream",
     "text": [
      "3\n"
     ]
    }
   ],
   "source": [
    "#Develop a program that calculates the sum of the digits of a factorial of numbers from 1 to 5 using list comprehension\n",
    "def sum_of_digits_factorial(n):\n",
    "\tfact = 1\n",
    "\tfor i in range(2, n+1):\n",
    "\t\tfact *= i\n",
    "\tsum_of_digits = 0\n",
    "\tfor digit in str(fact):\n",
    "\t\tsum_of_digits += int(digit)\n",
    "\treturn sum_of_digits\n",
    "\n",
    "# Example usage\n",
    "print(sum_of_digits_factorial(5)) \n"
   ]
  },
  {
   "cell_type": "code",
   "execution_count": 13,
   "id": "237caa41",
   "metadata": {},
   "outputs": [
    {
     "name": "stdout",
     "output_type": "stream",
     "text": [
      "The longest word in the string is: confident\n"
     ]
    }
   ],
   "source": [
    "#Write a program that finds the longest word in a sentence using list comprehension.\n",
    "from functools import reduce\n",
    "\n",
    "# function to find the longest word in a string\n",
    "def longest_word(s):\n",
    "\t# split the string into words\n",
    "\twords = s.split()\n",
    "\t# use reduce to find the word with the maximum length\n",
    "\treturn reduce(lambda x, y: x if len(x) > len(y) else y, words)\n",
    "\n",
    "# example usage\n",
    "s = \"be confident and be yourself\"\n",
    "longest = longest_word(s)\n",
    "print(\"The longest word in the string is:\", longest)\n",
    "#This code is contributed by Jyothi pinjala\n"
   ]
  },
  {
   "cell_type": "code",
   "execution_count": 14,
   "id": "92c8c0b8",
   "metadata": {},
   "outputs": [
    {
     "name": "stdout",
     "output_type": "stream",
     "text": [
      "Maximum vowels word : geeks\n"
     ]
    }
   ],
   "source": [
    "#Create a program that filters a list of strings to include only those with more than three vowels using list comprehension\n",
    "\n",
    "test_list = [\"gfg\", \"best\", \"for\", \"geeks\"]\n",
    "\n",
    "#using dictionary comprehsion\n",
    "vowel_count = {word: sum(1 for char in word if char in \"aeiouAEIOU\") for word in test_list}\n",
    "\n",
    "max_vowels = max(vowel_count, key=vowel_count.get)\n",
    "\n",
    "# Print the word with the maximum count of vowels\n",
    "print(\"Maximum vowels word : \" + max_vowels)\n",
    "\n",
    "\n",
    "#this code contributed by tvsk\n"
   ]
  },
  {
   "cell_type": "code",
   "execution_count": 20,
   "id": "b58664aa",
   "metadata": {},
   "outputs": [
    {
     "data": {
      "text/plain": [
       "50005000"
      ]
     },
     "execution_count": 20,
     "metadata": {},
     "output_type": "execute_result"
    }
   ],
   "source": [
    "#Develop a program that calculates the sum of the digits of numbers from 1 to 1000 using list comprehension\n",
    "add=lambda b:sum([x for x in range(10001)])\n",
    "sum"
   ]
  },
  {
   "cell_type": "code",
   "execution_count": 24,
   "id": "2c4727ea",
   "metadata": {},
   "outputs": [
    {
     "data": {
      "text/plain": [
       "[3, 4]"
      ]
     },
     "execution_count": 24,
     "metadata": {},
     "output_type": "execute_result"
    }
   ],
   "source": [
    "#Write a program that generates a list of prime palindromic numbers using list comprehension.\n",
    "prime_list = [x for x in range(0,5) for y in range(2,x) if x % x == 0 and x % 1 == 0 and x % y != 0]\n",
    "prime_list"
   ]
  },
  {
   "cell_type": "code",
   "execution_count": null,
   "id": "24659b86",
   "metadata": {},
   "outputs": [],
   "source": []
  }
 ],
 "metadata": {
  "kernelspec": {
   "display_name": "Python 3 (ipykernel)",
   "language": "python",
   "name": "python3"
  },
  "language_info": {
   "codemirror_mode": {
    "name": "ipython",
    "version": 3
   },
   "file_extension": ".py",
   "mimetype": "text/x-python",
   "name": "python",
   "nbconvert_exporter": "python",
   "pygments_lexer": "ipython3",
   "version": "3.10.9"
  }
 },
 "nbformat": 4,
 "nbformat_minor": 5
}
