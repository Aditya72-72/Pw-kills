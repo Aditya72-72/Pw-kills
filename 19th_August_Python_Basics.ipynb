{
 "cells": [
  {
   "cell_type": "markdown",
   "id": "c4b13b32",
   "metadata": {},
   "source": [
    "## Python Basic Variable"
   ]
  },
  {
   "cell_type": "code",
   "execution_count": 6,
   "id": "a2139792",
   "metadata": {},
   "outputs": [
    {
     "name": "stdout",
     "output_type": "stream",
     "text": [
      "the numbers before swapping 25 & 23\n",
      "the number after swapping 23 & 25\n"
     ]
    }
   ],
   "source": [
    "#1 Swapping the numbers \n",
    "x= 25   # declearing variable x\n",
    "y=23    # declearing variable y\n",
    "print(\"the numbers before swapping\", x ,\"&\", y)\n",
    "\n",
    "x= x + y  # 25 + 23 = 48\n",
    "y= x - y  # 48 - 23 = 25\n",
    "x= x - y  # 48 - 25 = 23 \n",
    "\n",
    "print(\"the number after swapping\",x,\"&\",y)"
   ]
  },
  {
   "cell_type": "code",
   "execution_count": 11,
   "id": "18f3d839",
   "metadata": {},
   "outputs": [
    {
     "name": "stdout",
     "output_type": "stream",
     "text": [
      "Enter the height of rectangle:12\n",
      "Enter the width of rectangle:4\n",
      "The Area of Retangle is : 48\n"
     ]
    }
   ],
   "source": [
    "#2 Area of Rectangle\n",
    "\n",
    "height= eval(input(\"Enter the height of rectangle:\")) # taking input from user\n",
    "width = eval(input(\"Enter the width of rectangle:\")) # taking input from user\n",
    "Area = height * width      # calulating the area of reactangle \n",
    "print(\"The Area of Retangle is :\", Area)\n"
   ]
  },
  {
   "cell_type": "code",
   "execution_count": 12,
   "id": "5fa971ce",
   "metadata": {},
   "outputs": [
    {
     "name": "stdout",
     "output_type": "stream",
     "text": [
      "Enter the Temperature in Celcius :32\n",
      "The Temperature in Fahernheit is : 89.6\n"
     ]
    }
   ],
   "source": [
    "#3 Temperature from Celcius to Fahrenheit\n",
    "\n",
    "Celcius = eval(input(\"Enter the Temperature in Celcius :\")) # taking input from user\n",
    "F= Celcius *(9/5)+32                                       # calculating and storing the value of Fahrenheit in variable \"F\"\n",
    "\n",
    "print(\"The Temperature in Fahernheit is :\", F)\n"
   ]
  },
  {
   "cell_type": "markdown",
   "id": "48293939",
   "metadata": {},
   "source": [
    "## String Based Questions"
   ]
  },
  {
   "cell_type": "code",
   "execution_count": 15,
   "id": "624149df",
   "metadata": {},
   "outputs": [
    {
     "name": "stdout",
     "output_type": "stream",
     "text": [
      "enter the word:aditya\n",
      "the length of string is 6\n"
     ]
    }
   ],
   "source": [
    "#1 Length of string\n",
    "s = str(input(\"enter the word:\"))\n",
    "\n",
    "print(\"the length of string is\",len(s))"
   ]
  },
  {
   "cell_type": "code",
   "execution_count": 19,
   "id": "a69b512e",
   "metadata": {},
   "outputs": [
    {
     "name": "stdout",
     "output_type": "stream",
     "text": [
      "enter the sentence:aditya\n",
      "3\n"
     ]
    }
   ],
   "source": [
    "#2 countinng the number of vowels in string\n",
    "string = str(input(\"enter the sentence:\"))\n",
    "vowels = \"aeiouAEIOU\"\n",
    "\n",
    "count = sum(string.count(vowel) for vowel in vowels)\n",
    "print(count)\n"
   ]
  },
  {
   "cell_type": "code",
   "execution_count": 20,
   "id": "4c53b6fd",
   "metadata": {},
   "outputs": [
    {
     "name": "stdout",
     "output_type": "stream",
     "text": [
      "dlroW olleH\n"
     ]
    }
   ],
   "source": [
    "#3 Reversing a string using string slicing\n",
    "txt = \"Hello World\"[::-1]\n",
    "print(txt)"
   ]
  },
  {
   "cell_type": "code",
   "execution_count": 25,
   "id": "8c36d9b9",
   "metadata": {},
   "outputs": [
    {
     "name": "stdout",
     "output_type": "stream",
     "text": [
      "Enter a letter:aditya\n",
      "The letter is not a palindrome\n"
     ]
    }
   ],
   "source": [
    "# checking a string is palindrome\n",
    "string=input((\"Enter a letter:\"))  \n",
    "\n",
    "if(string==string[::-1]):  \n",
    "      print(\"The letter is a palindrome\")  \n",
    "else:  \n",
    "      print(\"The letter is not a palindrome\")  "
   ]
  },
  {
   "cell_type": "code",
   "execution_count": 27,
   "id": "201185a3",
   "metadata": {},
   "outputs": [
    {
     "name": "stdout",
     "output_type": "stream",
     "text": [
      "Enter the sentence:aditya gavate\n",
      "String after removing all the white spaces : adityagavate\n"
     ]
    }
   ],
   "source": [
    "#5 removing white spaces in the string\n",
    "string = (input(\"Enter the sentence:\"))\n",
    "    \n",
    "string = string.replace(\" \",\"\");  \n",
    "          \n",
    "print(\"String after removing all the white spaces : \" + string);  "
   ]
  },
  {
   "cell_type": "code",
   "execution_count": null,
   "id": "da46fad9",
   "metadata": {},
   "outputs": [],
   "source": []
  }
 ],
 "metadata": {
  "kernelspec": {
   "display_name": "Python 3 (ipykernel)",
   "language": "python",
   "name": "python3"
  },
  "language_info": {
   "codemirror_mode": {
    "name": "ipython",
    "version": 3
   },
   "file_extension": ".py",
   "mimetype": "text/x-python",
   "name": "python",
   "nbconvert_exporter": "python",
   "pygments_lexer": "ipython3",
   "version": "3.10.9"
  }
 },
 "nbformat": 4,
 "nbformat_minor": 5
}
